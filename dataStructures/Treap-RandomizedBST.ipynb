{
 "cells": [
  {
   "cell_type": "markdown",
   "metadata": {},
   "source": [
    "# Treap (Tree+ Heap)\n",
    "- Randomized Binary search tree\n",
    "- Easy implementation\n",
    "- The tree height is log(#keys) with a very high probability.\n",
    "- Ideal for quick implementation and easy understanding "
   ]
  },
  {
   "cell_type": "code",
   "execution_count": 23,
   "metadata": {
    "collapsed": false
   },
   "outputs": [],
   "source": [
    "import random;\n",
    "class Node:\n",
    "    def __init__(self,key,value=0):\n",
    "        self.priority = int(random.random() * 1e9)\n",
    "        self.key=key;\n",
    "        self.value=value;\n",
    "        self.left=None;\n",
    "        self.right=None;\n",
    "          \n",
    "class BST:\n",
    "    def __init__(self):\n",
    "        self.root=None;\n",
    "    def rotate_with_left_child(self, node):\n",
    "        temp = node.left\n",
    "        node.left = temp.right\n",
    "        temp.right = node\n",
    "        node = temp\n",
    "        return node\n",
    "    \n",
    "    def rotate_with_right_child(self, node):\n",
    "        temp = node.right\n",
    "        node.right = temp.left\n",
    "        temp.left = node\n",
    "        node = temp\n",
    "        return node\n",
    "    def _insert(self, curroot, v):\n",
    "        \n",
    "        if curroot==None:\n",
    "            return Node(v);\n",
    "            \n",
    "        elif v<curroot.key:\n",
    "            curroot.left=self._insert(curroot.left,v);\n",
    "            if curroot.left.priority<curroot.priority:\n",
    "                curroot=self.rotate_with_left_child(curroot);\n",
    "                \n",
    "        else: \n",
    "            curroot.right=self._insert(curroot.right,v);\n",
    "            if curroot.right.priority<curroot.priority:\n",
    "                curroot=self.rotate_with_right_child(curroot);\n",
    "                       \n",
    "        \n",
    "        return curroot;\n",
    "    \n",
    "    def insert(self,v):\n",
    "        self.root=self._insert(self.root,v);    \n",
    "    \n",
    "        "
   ]
  },
  {
   "cell_type": "markdown",
   "metadata": {},
   "source": [
    "# test"
   ]
  },
  {
   "cell_type": "code",
   "execution_count": 24,
   "metadata": {
    "collapsed": false
   },
   "outputs": [
    {
     "name": "stdout",
     "output_type": "stream",
     "text": [
      "Inserting order\n",
      "55 32 15 99 74 12 84 95 98 13 76 13 6 97 45 66 4 44 23 25 \n",
      "Sorted order (in order traversal)\n",
      "4 6 12 13 13 15 23 25 32 44 45 55 66 74 76 84 95 97 98 99\n"
     ]
    }
   ],
   "source": [
    "bst=BST();\n",
    "print \"Inserting order\"\n",
    "for _ in xrange(20):\n",
    "    randomint=int(random.random() * 1e2);\n",
    "    print randomint,;\n",
    "    bst.insert(randomint);\n",
    "print \"\\nSorted order (in order traversal)\";\n",
    "def printInOrder(r):\n",
    "    if r==None: return;\n",
    "    printInOrder(r.left);\n",
    "    print r.key,\n",
    "    printInOrder(r.right);\n",
    "printInOrder(bst.root)"
   ]
  },
  {
   "cell_type": "code",
   "execution_count": null,
   "metadata": {
    "collapsed": true
   },
   "outputs": [],
   "source": []
  }
 ],
 "metadata": {
  "kernelspec": {
   "display_name": "tf",
   "language": "python",
   "name": "tf"
  },
  "language_info": {
   "codemirror_mode": {
    "name": "ipython",
    "version": 2
   },
   "file_extension": ".py",
   "mimetype": "text/x-python",
   "name": "python",
   "nbconvert_exporter": "python",
   "pygments_lexer": "ipython2",
   "version": "2.7.13"
  }
 },
 "nbformat": 4,
 "nbformat_minor": 2
}
