{
 "cells": [
  {
   "cell_type": "markdown",
   "metadata": {},
   "source": [
    "# Treap (Tree+ Heap)\n",
    "- Randomized Binary search tree\n",
    "- easy implementation\n",
    "- The Tree height is log(#keys) with very high probability.\n",
    "- Ideal for quick implementation and easy understanding "
   ]
  },
  {
   "cell_type": "code",
   "execution_count": 4,
   "metadata": {
    "collapsed": false
   },
   "outputs": [],
   "source": [
    "import random;\n",
    "class Node:\n",
    "    def __init__(self,key,value=0):\n",
    "        self.priority = int(random.random() * 1e9)\n",
    "        self.key=key;\n",
    "        self.value=value;\n",
    "        self.left=None;\n",
    "        self.right=None;\n",
    "          \n",
    "class BST:\n",
    "    def __init__(self):\n",
    "        self.root=None;\n",
    "    def rotate_with_left_child(self, node):\n",
    "        temp = node.left\n",
    "        node.left = temp.right\n",
    "        temp.right = node\n",
    "        node = temp\n",
    "        return node\n",
    "    \n",
    "    def rotate_with_right_child(self, node):\n",
    "        temp = node.right\n",
    "        node.right = temp.left\n",
    "        temp.left = node\n",
    "        node = temp\n",
    "        return node\n",
    "    def _insert(self, curroot, v):\n",
    "        \n",
    "        if curroot==None:\n",
    "            return Node(v);\n",
    "            \n",
    "        elif v<curroot.key:\n",
    "            curroot.left=self._insert(curroot.left,v);\n",
    "            if curroot.left.priority<curroot.priority:\n",
    "                curroot=self.rotate_with_left_child(curroot);\n",
    "                \n",
    "        else: \n",
    "            curroot.right=self._insert(curroot.right,v);\n",
    "            if curroot.right.priority<curroot.priority:\n",
    "                curroot=self.rotate_with_right_child(curroot);\n",
    "                       \n",
    "        \n",
    "        return curroot;\n",
    "    \n",
    "    def insert(self,v):\n",
    "        self.root=self._insert(self.root,v);    \n",
    "    \n",
    "        "
   ]
  },
  {
   "cell_type": "markdown",
   "metadata": {},
   "source": [
    "# test"
   ]
  },
  {
   "cell_type": "code",
   "execution_count": 20,
   "metadata": {
    "collapsed": false
   },
   "outputs": [
    {
     "name": "stdout",
     "output_type": "stream",
     "text": [
      "Inserting order\n",
      "63 66 64 39 73 5 42 43 80 94 66 80 34 58 96 86 95 5 86 69 \n",
      "Sorted order (in order traversal)\n",
      "5 5 34 39 42 43 58 63 64 66 66 69 73 80 80 86 86 94 95 96\n"
     ]
    }
   ],
   "source": [
    "bst=BST();\n",
    "print \"Inserting order\"\n",
    "for _ in xrange(20):\n",
    "    randomint=int(random.random() * 1e2);\n",
    "    print randomint,;\n",
    "    bst.insert(randomint);\n",
    "print \"\\nSorted order (in order traversal)\";\n",
    "def printInOrder(r):\n",
    "    if r==None: return;\n",
    "    printInOrder(r.left);\n",
    "    print r.key,\n",
    "    printInOrder(r.right);\n",
    "printInOrder(bst.root)"
   ]
  },
  {
   "cell_type": "code",
   "execution_count": null,
   "metadata": {
    "collapsed": true
   },
   "outputs": [],
   "source": []
  }
 ],
 "metadata": {
  "kernelspec": {
   "display_name": "tf",
   "language": "python",
   "name": "tf"
  },
  "language_info": {
   "codemirror_mode": {
    "name": "ipython",
    "version": 2
   },
   "file_extension": ".py",
   "mimetype": "text/x-python",
   "name": "python",
   "nbconvert_exporter": "python",
   "pygments_lexer": "ipython2",
   "version": "2.7.13"
  }
 },
 "nbformat": 4,
 "nbformat_minor": 2
}
