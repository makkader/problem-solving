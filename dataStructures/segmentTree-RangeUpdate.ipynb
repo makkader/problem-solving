{
 "cells": [
  {
   "cell_type": "markdown",
   "metadata": {},
   "source": [
    "## Python classes for segment tree\n",
    "* Sum of elements in a range [l,r] in logn time.\n",
    "* Add a value to each element in the range [l,r] in logn time. Lazy propagation. \n",
    "* Initialization takes nlogn time. \n",
    "* Top down implementation.\n",
    "* Support modification of an item in logn time.\n",
    "* Can easily be modified for other functions such as min or max.\n"
   ]
  },
  {
   "cell_type": "code",
   "execution_count": 35,
   "metadata": {
    "collapsed": true
   },
   "outputs": [],
   "source": [
    "class Node:\n",
    "    def __init__(self,v,left=None,right=None):\n",
    "        self.item=v;\n",
    "        self.left=left;\n",
    "        self.right=right;\n",
    "        #lazy propagation\n",
    "        self.scaleAdd=0;\n",
    "    def getValue(self):\n",
    "        return self.item+self.scaleAdd;\n",
    "        \n",
    "class SegmentTree:\n",
    "    def __init__(self,A):\n",
    "        self.A=A;\n",
    "        self.N=len(A);\n",
    "        self.root=self.build(0,self.N-1);\n",
    "\n",
    "    def build(self,i,j):\n",
    "        if i==j: return Node(self.A[i]);\n",
    "        mid=(i+j)//2;\n",
    "        left=self.build(i,mid);\n",
    "        right=self.build(mid+1,j);\n",
    "        \n",
    "        return Node(left.item+right.item,left,right); #modify based on function\n",
    "\n",
    "    def rangeSum(self,curRoot,i,j,l,r):\n",
    "        \n",
    "        if i>r or j<l: return 0; # modify based on funtion\n",
    "        if l<=i and j<=r: return curRoot.getValue(); \n",
    "        mid=(i+j)//2;\n",
    "        \n",
    "        s1=self.rangeSum(curRoot.left,i,mid,l,r);\n",
    "        s2=self.rangeSum(curRoot.right,mid+1,j,l,r);\n",
    "        return s1+s2+curRoot.scaleAdd; #function: sum\n",
    "        # for min: min(s1,s2)+scaleAdd\n",
    "        \n",
    "    def getRangeSum(self,l,r):\n",
    "        return self.rangeSum(self.root,0,self.N-1,l,r);\n",
    "\n",
    "    def _updateSingle(self,curRoot,i,j,idx,value):\n",
    "        if i==j and i==idx: \n",
    "            curRoot.item=value;\n",
    "            \n",
    "            return ;\n",
    "        \n",
    "        if i>idx or j<idx: return ; #unnessary\n",
    "        mid=(i+j)//2;\n",
    "        if idx<=mid:\n",
    "            self._updateSingle(curRoot.left,i,mid,idx,value);\n",
    "        else:\n",
    "            self._updateSingle(curRoot.right,mid+1,j,idx,value);\n",
    "        \n",
    "        curRoot.item=curRoot.left.item+curRoot.right.item; # function: sum\n",
    "        \n",
    "    def updateSingle(self,idx,value):\n",
    "        self._updateSingle(self.root,0,self.N-1,idx,value);\n",
    "    def _updateRange(self,curRoot,i,j,l,r,v):\n",
    "        #Lazy propagation \n",
    "        if i>r or j<l: return ; # modify based on funtion\n",
    "        if l<=i and j<=r:\n",
    "            curRoot.scaleAdd+=v;\n",
    "            return;\n",
    "        mid=(i+j)//2;\n",
    "        self._updateRange(curRoot.left,i,mid,l,r,v);\n",
    "        self._updateRange(curRoot.right,mid+1,j,l,r,v);\n",
    "        curRoot.item=curRoot.left.getValue()+curRoot.right.getValue(); # function: sum\n",
    "        #return;\n",
    "    def updateRange(self,l,r,v):\n",
    "        #add v to each element in range [l,r]\n",
    "        self._updateRange(self.root,0,self.N-1,l,r,v);\n",
    "        "
   ]
  },
  {
   "cell_type": "markdown",
   "metadata": {},
   "source": [
    "## Test "
   ]
  },
  {
   "cell_type": "code",
   "execution_count": 36,
   "metadata": {
    "collapsed": false
   },
   "outputs": [
    {
     "name": "stdout",
     "output_type": "stream",
     "text": [
      "13\n",
      "19\n"
     ]
    }
   ],
   "source": [
    "#test\n",
    "A=[2,3,5,7,1,7,9,5,7,1];\n",
    "st=SegmentTree(A);\n",
    "\n",
    "print st.getRangeSum(2,4)\n",
    "st.updateSingle(3,9); # A[3]=9\n",
    "st.updateRange(2,5,2); # A[2:5]+=2\n",
    "\n",
    "print st.getRangeSum(2,4)\n",
    "\n"
   ]
  },
  {
   "cell_type": "code",
   "execution_count": 37,
   "metadata": {
    "collapsed": false
   },
   "outputs": [
    {
     "name": "stdout",
     "output_type": "stream",
     "text": [
      "A[ 0 ] 2\n",
      "A[ 1 ] 3\n",
      "A[ 2 ] 7\n",
      "A[ 3 ] 11\n",
      "A[ 4 ] 3\n",
      "A[ 5 ] 9\n",
      "A[ 6 ] 9\n",
      "A[ 7 ] 5\n",
      "A[ 8 ] 7\n",
      "A[ 9 ] 1\n"
     ]
    }
   ],
   "source": [
    "def showUpdatedArray(N):\n",
    "    for i in xrange(N):\n",
    "        v= st.getRangeSum(i,i)\n",
    "        print 'A[',i,']',v;\n",
    "        \n",
    "showUpdatedArray(st.N);    "
   ]
  },
  {
   "cell_type": "markdown",
   "metadata": {},
   "source": [
    "## Print whole tree and node values"
   ]
  },
  {
   "cell_type": "code",
   "execution_count": 38,
   "metadata": {
    "collapsed": false
   },
   "outputs": [
    {
     "name": "stdout",
     "output_type": "stream",
     "text": [
      "[ 0 9 ] 55 0\n",
      "[ 0 4 ] 24 0\n",
      "[ 0 2 ] 12 0\n",
      "[ 0 1 ] 5 0\n",
      "[ 0 0 ] 2 0\n",
      "[ 1 1 ] 3 0\n",
      "[ 2 2 ] 5 2\n",
      "[ 3 4 ] 10 2\n",
      "[ 3 3 ] 9 0\n",
      "[ 4 4 ] 1 0\n",
      "[ 5 9 ] 31 0\n",
      "[ 5 7 ] 23 0\n",
      "[ 5 6 ] 18 0\n",
      "[ 5 5 ] 7 2\n",
      "[ 6 6 ] 9 0\n",
      "[ 7 7 ] 5 0\n",
      "[ 8 9 ] 8 0\n",
      "[ 8 8 ] 7 0\n",
      "[ 9 9 ] 1 0\n"
     ]
    }
   ],
   "source": [
    "#print Whole tree \n",
    "def traverse(root,i,j):\n",
    "\n",
    "    print \"[\",i,j,\"]\",root.item,root.scaleAdd;\n",
    "    if i==j: \n",
    "        return\n",
    "    mid=(i+j)//2;\n",
    "    traverse(root.left,i,mid);\n",
    "    traverse(root.right,mid+1,j);\n",
    "\n",
    "    \n",
    "traverse(st.root,0,st.N-1);    "
   ]
  },
  {
   "cell_type": "code",
   "execution_count": null,
   "metadata": {
    "collapsed": true
   },
   "outputs": [],
   "source": []
  },
  {
   "cell_type": "code",
   "execution_count": null,
   "metadata": {
    "collapsed": true
   },
   "outputs": [],
   "source": []
  }
 ],
 "metadata": {
  "kernelspec": {
   "display_name": "tf",
   "language": "python",
   "name": "tf"
  },
  "language_info": {
   "codemirror_mode": {
    "name": "ipython",
    "version": 2
   },
   "file_extension": ".py",
   "mimetype": "text/x-python",
   "name": "python",
   "nbconvert_exporter": "python",
   "pygments_lexer": "ipython2",
   "version": "2.7.13"
  }
 },
 "nbformat": 4,
 "nbformat_minor": 2
}
