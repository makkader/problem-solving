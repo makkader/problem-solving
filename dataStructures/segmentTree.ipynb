{
 "cells": [
  {
   "cell_type": "markdown",
   "metadata": {},
   "source": [
    "## Python classes for segment tree"
   ]
  },
  {
   "cell_type": "code",
   "execution_count": 1,
   "metadata": {
    "collapsed": true
   },
   "outputs": [],
   "source": [
    "class Node:\n",
    "    def __init__(self,v,left=None,right=None):\n",
    "        self.item=v;\n",
    "        self.left=left;\n",
    "        self.right=right;\n",
    "        \n",
    "class SegmentTree:\n",
    "    def __init__(self,A):\n",
    "        self.A=A;\n",
    "        self.N=len(A);\n",
    "        self.root=self.build(0,self.N-1);\n",
    "\n",
    "    def build(self,i,j):\n",
    "        if i==j: return Node(self.A[i]);\n",
    "        mid=(i+j)//2;\n",
    "        left=self.build(i,mid);\n",
    "        right=self.build(mid+1,j);\n",
    "        \n",
    "        return Node(left.item+right.item,left,right); #modify based on function\n",
    "\n",
    "    def rangeSum(self,curRoot,i,j,l,r):\n",
    "        \n",
    "        if i>r or j<l: return 0; # modify based on funtion\n",
    "        if l<=i and j<=r: return curRoot.item;\n",
    "        mid=(i+j)//2;\n",
    "        \n",
    "        s1=self.rangeSum(curRoot.left,i,mid,l,r);\n",
    "        s2=self.rangeSum(curRoot.right,mid+1,j,l,r);\n",
    "        return s1+s2; #function\n",
    "        \n",
    "    def getRangeSum(self,l,r):\n",
    "        return self.rangeSum(self.root,0,self.N-1,l,r);\n",
    "\n",
    "    def updateSingle(self,curRoot,i,j,idx,value):\n",
    "        if i==j and i==idx: \n",
    "            curRoot.item=value;\n",
    "            return ;\n",
    "        \n",
    "        if i>idx or j<idx: return ; #unnessary\n",
    "        mid=(i+j)//2;\n",
    "        if idx<=mid:\n",
    "            self.updateSingle(curRoot.left,i,mid,idx,value);\n",
    "        else:\n",
    "            self.updateSingle(curRoot.right,mid+1,j,idx,value);\n",
    "        \n",
    "        curRoot.item=curRoot.left.item+curRoot.right.item; # function: sum\n",
    "        \n",
    "    def update(self,idx,value):\n",
    "        self.updateSingle(self.root,0,self.N-1,idx,value);\n",
    "    def updateRange(self,l,r,v):\n",
    "        print 'range update in future'"
   ]
  },
  {
   "cell_type": "markdown",
   "metadata": {},
   "source": [
    "## Test "
   ]
  },
  {
   "cell_type": "code",
   "execution_count": 4,
   "metadata": {
    "collapsed": false
   },
   "outputs": [
    {
     "name": "stdout",
     "output_type": "stream",
     "text": [
      "13\n",
      "15\n"
     ]
    }
   ],
   "source": [
    "#test\n",
    "A=[2,3,5,7,1,7,9,5,7,1];\n",
    "st=SegmentTree(A);\n",
    "\n",
    "print st.getRangeSum(2,4)\n",
    "st.update(3,9);\n",
    "print st.getRangeSum(2,4)\n",
    "\n"
   ]
  },
  {
   "cell_type": "markdown",
   "metadata": {},
   "source": [
    "## Print whole tree and node values"
   ]
  },
  {
   "cell_type": "code",
   "execution_count": 3,
   "metadata": {
    "collapsed": false
   },
   "outputs": [
    {
     "name": "stdout",
     "output_type": "stream",
     "text": [
      "[ 0 9 ] 49\n",
      "[ 0 4 ] 20\n",
      "[ 0 2 ] 10\n",
      "[ 0 1 ] 5\n",
      "[ 0 0 ] 2\n",
      "[ 1 1 ] 3\n",
      "[ 2 2 ] 5\n",
      "[ 3 4 ] 10\n",
      "[ 3 3 ] 9\n",
      "[ 4 4 ] 1\n",
      "[ 5 9 ] 29\n",
      "[ 5 7 ] 21\n",
      "[ 5 6 ] 16\n",
      "[ 5 5 ] 7\n",
      "[ 6 6 ] 9\n",
      "[ 7 7 ] 5\n",
      "[ 8 9 ] 8\n",
      "[ 8 8 ] 7\n",
      "[ 9 9 ] 1\n"
     ]
    }
   ],
   "source": [
    "#print Whole tree \n",
    "def traverse(root,i,j):\n",
    "\n",
    "    print \"[\",i,j,\"]\",root.item;\n",
    "    if i==j: \n",
    "        return\n",
    "    mid=(i+j)//2;\n",
    "    traverse(root.left,i,mid);\n",
    "    traverse(root.right,mid+1,j);\n",
    "\n",
    "    \n",
    "traverse(st.root,0,st.N-1);    "
   ]
  },
  {
   "cell_type": "code",
   "execution_count": null,
   "metadata": {
    "collapsed": true
   },
   "outputs": [],
   "source": []
  }
 ],
 "metadata": {
  "kernelspec": {
   "display_name": "tf",
   "language": "python",
   "name": "tf"
  },
  "language_info": {
   "codemirror_mode": {
    "name": "ipython",
    "version": 2
   },
   "file_extension": ".py",
   "mimetype": "text/x-python",
   "name": "python",
   "nbconvert_exporter": "python",
   "pygments_lexer": "ipython2",
   "version": "2.7.13"
  }
 },
 "nbformat": 4,
 "nbformat_minor": 2
}
