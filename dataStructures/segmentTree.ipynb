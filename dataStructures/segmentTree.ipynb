{
 "cells": [
  {
   "cell_type": "markdown",
   "metadata": {},
   "source": [
    "## Python classes for segment tree"
   ]
  },
  {
   "cell_type": "code",
   "execution_count": 12,
   "metadata": {
    "collapsed": true
   },
   "outputs": [],
   "source": [
    "class Node:\n",
    "    def __init__(self,v,left=None,right=None):\n",
    "        self.item=v;\n",
    "        self.left=left;\n",
    "        self.right=right;\n",
    "        \n",
    "class SegmentTree:\n",
    "    def __init__(self,A):\n",
    "        self.A=A;\n",
    "        self.N=len(A);\n",
    "        self.root=self.build(0,self.N-1);\n",
    "\n",
    "    def build(self,i,j):\n",
    "        if i==j: return Node(self.A[i]);\n",
    "        mid=(i+j)//2;\n",
    "        left=self.build(i,mid);\n",
    "        right=self.build(mid+1,j);\n",
    "        \n",
    "        return Node(left.item+right.item,left,right); #modify based on function\n",
    "\n",
    "    def rangeSum(self,curRoot,i,j,l,r):\n",
    "        \n",
    "        if i>r or j<l: return 0; # modify based on funtion\n",
    "        if l<=i and j<=r: return curRoot.item;\n",
    "        mid=(i+j)//2;\n",
    "        \n",
    "        s1=self.rangeSum(curRoot.left,i,mid,l,r);\n",
    "        s2=self.rangeSum(curRoot.right,mid+1,j,l,r);\n",
    "        return s1+s2; #function\n",
    "        \n",
    "    def getRangeSum(self,l,r):\n",
    "        return self.rangeSum(self.root,0,self.N-1,l,r);\n",
    "\n",
    "    \n"
   ]
  },
  {
   "cell_type": "markdown",
   "metadata": {},
   "source": [
    "## Test "
   ]
  },
  {
   "cell_type": "code",
   "execution_count": 13,
   "metadata": {
    "collapsed": false
   },
   "outputs": [
    {
     "data": {
      "text/plain": [
       "12"
      ]
     },
     "execution_count": 13,
     "metadata": {},
     "output_type": "execute_result"
    }
   ],
   "source": [
    "#test\n",
    "A=[2,3,5,7,1,7,9,5,7,1];\n",
    "st=SegmentTree(A);\n",
    "\n",
    "st.getRangeSum(2,3)"
   ]
  },
  {
   "cell_type": "markdown",
   "metadata": {},
   "source": [
    "## Print whole tree and node values"
   ]
  },
  {
   "cell_type": "code",
   "execution_count": 11,
   "metadata": {
    "collapsed": false
   },
   "outputs": [
    {
     "name": "stdout",
     "output_type": "stream",
     "text": [
      "[ 0 9 ] 47\n",
      "[ 0 4 ] 18\n",
      "[ 0 2 ] 10\n",
      "[ 0 1 ] 5\n",
      "[ 0 0 ] 2\n",
      "[ 1 1 ] 3\n",
      "[ 2 2 ] 5\n",
      "[ 3 4 ] 8\n",
      "[ 3 3 ] 7\n",
      "[ 4 4 ] 1\n",
      "[ 5 9 ] 29\n",
      "[ 5 7 ] 21\n",
      "[ 5 6 ] 16\n",
      "[ 5 5 ] 7\n",
      "[ 6 6 ] 9\n",
      "[ 7 7 ] 5\n",
      "[ 8 9 ] 8\n",
      "[ 8 8 ] 7\n",
      "[ 9 9 ] 1\n"
     ]
    }
   ],
   "source": [
    "#print Whole tree \n",
    "def traverse(root,i,j):\n",
    "\n",
    "    print \"[\",i,j,\"]\",root.item;\n",
    "    if i==j: \n",
    "        return\n",
    "    mid=(i+j)//2;\n",
    "    traverse(root.left,i,mid);\n",
    "    traverse(root.right,mid+1,j);\n",
    "\n",
    "    \n",
    "traverse(st.root,0,st.N-1);    "
   ]
  },
  {
   "cell_type": "code",
   "execution_count": null,
   "metadata": {
    "collapsed": true
   },
   "outputs": [],
   "source": []
  }
 ],
 "metadata": {
  "kernelspec": {
   "display_name": "tf",
   "language": "python",
   "name": "tf"
  },
  "language_info": {
   "codemirror_mode": {
    "name": "ipython",
    "version": 2
   },
   "file_extension": ".py",
   "mimetype": "text/x-python",
   "name": "python",
   "nbconvert_exporter": "python",
   "pygments_lexer": "ipython2",
   "version": "2.7.13"
  }
 },
 "nbformat": 4,
 "nbformat_minor": 2
}
